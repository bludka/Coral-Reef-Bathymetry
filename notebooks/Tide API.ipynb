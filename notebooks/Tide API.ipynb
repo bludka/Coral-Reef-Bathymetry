{
 "cells": [
  {
   "cell_type": "code",
   "execution_count": 1,
   "metadata": {
    "collapsed": true
   },
   "outputs": [],
   "source": [
    "#importing required packages\n",
    "import requests\n",
    "import re\n",
    "from datetime import datetime\n",
    "import json\n",
    "import os "
   ]
  },
  {
   "cell_type": "code",
   "execution_count": 2,
   "metadata": {
    "collapsed": true
   },
   "outputs": [],
   "source": [
    "#storing API Key\n",
    "os.environ['API_KEY'] = 'c88af929-c965-4ef0-8514-7f91b58be9d6'"
   ]
  },
  {
   "cell_type": "code",
   "execution_count": 3,
   "metadata": {
    "collapsed": true
   },
   "outputs": [],
   "source": [
    "#converting datetime object to unix time\n",
    "def unix_time(dt):\n",
    "    epoch = datetime.utcfromtimestamp(0)\n",
    "    return ((dt - epoch).total_seconds()) "
   ]
  },
  {
   "cell_type": "code",
   "execution_count": 4,
   "metadata": {
    "collapsed": true
   },
   "outputs": [],
   "source": [
    "#hitting the API and returning the tide on the given day\n",
    "def get_tide(lat,lon,dt):\n",
    "    base_url = 'https://www.worldtides.info/api?heights' \n",
    "    ut = (unix_time(dt))\n",
    "    #generating the url\n",
    "    url = base_url + '&lat=' + str(lat) + '&lon=' + str(lon) + '&start=' + str(ut) + \\\n",
    "    '&length=1000&key=' + os.environ['API_KEY']\n",
    "    #hitting API\n",
    "    r = requests.get(url)\n",
    "    #converting respoiinse to JSON\n",
    "    tide = json.loads(r.text)\n",
    "    return tide['heights'][0]['height']"
   ]
  },
  {
   "cell_type": "code",
   "execution_count": 6,
   "metadata": {
    "collapsed": false
   },
   "outputs": [
    {
     "data": {
      "text/plain": [
       "-0.219"
      ]
     },
     "execution_count": 6,
     "metadata": {},
     "output_type": "execute_result"
    }
   ],
   "source": [
    "lat=-18.68875\n",
    "lon=-178.47685\n",
    "dt = datetime.strptime('20181210123712', '%Y%m%d%H%M%S')\n",
    "get_tide(lat,lon,dt)"
   ]
  },
  {
   "cell_type": "code",
   "execution_count": 9,
   "metadata": {
    "collapsed": false
   },
   "outputs": [
    {
     "data": {
      "text/plain": [
       "'2018-12-10'"
      ]
     },
     "execution_count": 9,
     "metadata": {},
     "output_type": "execute_result"
    }
   ],
   "source": [
    "str(dt.date())"
   ]
  },
  {
   "cell_type": "code",
   "execution_count": null,
   "metadata": {
    "collapsed": true
   },
   "outputs": [],
   "source": []
  }
 ],
 "metadata": {
  "kernelspec": {
   "display_name": "Python 3",
   "language": "python",
   "name": "python3"
  },
  "language_info": {
   "codemirror_mode": {
    "name": "ipython",
    "version": 3
   },
   "file_extension": ".py",
   "mimetype": "text/x-python",
   "name": "python",
   "nbconvert_exporter": "python",
   "pygments_lexer": "ipython3",
   "version": "3.7.3"
  }
 },
 "nbformat": 4,
 "nbformat_minor": 2
}
