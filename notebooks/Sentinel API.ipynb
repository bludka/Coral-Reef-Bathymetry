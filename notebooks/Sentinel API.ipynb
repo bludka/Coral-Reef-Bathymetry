{
 "cells": [
  {
   "cell_type": "markdown",
   "metadata": {},
   "source": [
    "If you do not have sentinelsat package installed on your machine run the command below"
   ]
  },
  {
   "cell_type": "code",
   "execution_count": null,
   "metadata": {
    "collapsed": false
   },
   "outputs": [],
   "source": [
    "import sys\n",
    "!{sys.executable} -m pip install sentinelsat"
   ]
  },
  {
   "cell_type": "code",
   "execution_count": 1,
   "metadata": {
    "collapsed": false
   },
   "outputs": [],
   "source": [
    "from sentinelsat import SentinelAPI, read_geojson, geojson_to_wkt\n",
    "from datetime import date\n",
    "import os\n",
    "import geopandas as gpd\n",
    "\n",
    "import zipfile\n",
    "import rasterio \n",
    "from rasterio.mask import mask\n",
    "\n",
    "from shapely.geometry import MultiPolygon, Polygon"
   ]
  },
  {
   "cell_type": "code",
   "execution_count": 2,
   "metadata": {
    "collapsed": true
   },
   "outputs": [],
   "source": [
    "os.chdir('..')"
   ]
  },
  {
   "cell_type": "code",
   "execution_count": 3,
   "metadata": {
    "collapsed": false
   },
   "outputs": [
    {
     "data": {
      "text/plain": [
       "'/Users/ksunil/Desktop/Karan/Codebase'"
      ]
     },
     "execution_count": 3,
     "metadata": {},
     "output_type": "execute_result"
    }
   ],
   "source": [
    "os.getcwd()"
   ]
  },
  {
   "cell_type": "code",
   "execution_count": 31,
   "metadata": {
    "collapsed": true
   },
   "outputs": [],
   "source": [
    "def get_sentinel_images(data_dirs, reef_name, start_date, end_date, num_images):\n",
    "    #login into api\n",
    "    user = 'karans04'\n",
    "    password = 'igpp2019'\n",
    "    api = SentinelAPI(user, password, 'https://scihub.copernicus.eu/dhus')\n",
    "    \n",
    "    #load in geojson of reef\n",
    "    reef_gjson_fp = os.path.join(data_dirs, reef_name ,reef_name+'.geojson')\n",
    "    reef_footprint = geojson_to_wkt(read_geojson(reef_gjson_fp))\n",
    "    \n",
    "    #query sentinel sat api\n",
    "    products = api.query(reef_footprint,date = (start_date, end_date),platformname = 'Sentinel-2'\\\n",
    "                         ,area_relation = 'Intersects',processinglevel = 'Level-2A',\\\n",
    "                         cloudcoverpercentage = (0,15),order_by = 'cloudcoverpercentage')\n",
    "    sorted_gdf = api.to_geodataframe(products).sort_values('cloudcoverpercentage')\n",
    "#     display(sorted_gdf.T)\n",
    "#     return\n",
    "    #creating folder for saving sentinel images\n",
    "    sentinel_path = os.path.join(data_dirs,reef_name, 'SAFE files')\n",
    "    if not os.path.exists(sentinel_path):\n",
    "        os.makedirs(sentinel_path)\n",
    "\n",
    "    #downloading num_images    \n",
    "    for i,x in enumerate(sorted_gdf.index):\n",
    "        if i < num_images:\n",
    "            fn = sorted_gdf.iloc[i].title\n",
    "            fp = os.path.join(sentinel_path, fn)\n",
    "            if not os.path.exists(fp):\n",
    "                api.download(x, directory_path = sentinel_path)\n",
    "    #unzipping files\n",
    "    for file in os.listdir(sentinel_path):\n",
    "        file_path = os.path.join(sentinel_path, file)\n",
    "        out_path = os.path.join(sentinel_path, file.split('.')[0])\n",
    "        if not os.path.exists(out_path):\n",
    "            with zipfile.ZipFile(file_path,\"r\") as zip_ref:\n",
    "                zip_ref.extractall(out_path)\n",
    "                os.remove(file_path)\n"
   ]
  },
  {
   "cell_type": "code",
   "execution_count": 32,
   "metadata": {
    "collapsed": false
   },
   "outputs": [
    {
     "name": "stderr",
     "output_type": "stream",
     "text": [
      "Downloading: 100%|██████████| 916M/916M [26:05<00:00, 509kB/s] \n",
      "MD5 checksumming: 100%|██████████| 916M/916M [00:01<00:00, 555MB/s]\n",
      "Downloading: 100%|██████████| 674M/674M [10:11<00:00, 636kB/s]\n",
      "MD5 checksumming: 100%|██████████| 674M/674M [00:01<00:00, 556MB/s]\n",
      "Downloading: 100%|██████████| 697M/697M [12:14<00:00, 949kB/s] \n",
      "MD5 checksumming: 100%|██████████| 697M/697M [00:01<00:00, 555MB/s]\n",
      "Downloading: 100%|██████████| 983M/983M [19:23<00:00, 801kB/s]\n",
      "MD5 checksumming: 100%|██████████| 983M/983M [00:01<00:00, 555MB/s]\n",
      "Product 6481e7bf-3937-4a3d-9075-4a0c26e79c6c is not online. Triggering retrieval from long term archive.\n",
      "Downloading: 100%|██████████| 741M/741M [16:57<00:00, 1.12MB/s]\n",
      "MD5 checksumming: 100%|██████████| 741M/741M [00:01<00:00, 556MB/s]\n",
      "Downloading: 100%|██████████| 517M/517M [08:53<00:00, 506kB/s]\n",
      "MD5 checksumming: 100%|██████████| 517M/517M [00:00<00:00, 518MB/s]\n",
      "Downloading: 100%|██████████| 525M/525M [13:47<00:00, 635kB/s]\n",
      "MD5 checksumming: 100%|██████████| 525M/525M [00:00<00:00, 550MB/s]\n",
      "Downloading: 100%|██████████| 985M/985M [22:17<00:00, 910kB/s]\n",
      "MD5 checksumming: 100%|██████████| 985M/985M [00:01<00:00, 549MB/s]\n",
      "Downloading: 100%|██████████| 856M/856M [15:26<00:00, 662kB/s]\n",
      "MD5 checksumming: 100%|██████████| 856M/856M [00:01<00:00, 552MB/s]\n"
     ]
    }
   ],
   "source": [
    "get_sentinel_images('data', 'Nasau', '20160101', '20200520', 20)"
   ]
  },
  {
   "cell_type": "code",
   "execution_count": null,
   "metadata": {
    "collapsed": true
   },
   "outputs": [],
   "source": []
  }
 ],
 "metadata": {
  "kernelspec": {
   "display_name": "Python 3",
   "language": "python",
   "name": "python3"
  },
  "language_info": {
   "codemirror_mode": {
    "name": "ipython",
    "version": 3
   },
   "file_extension": ".py",
   "mimetype": "text/x-python",
   "name": "python",
   "nbconvert_exporter": "python",
   "pygments_lexer": "ipython3",
   "version": "3.7.3"
  }
 },
 "nbformat": 4,
 "nbformat_minor": 0
}
